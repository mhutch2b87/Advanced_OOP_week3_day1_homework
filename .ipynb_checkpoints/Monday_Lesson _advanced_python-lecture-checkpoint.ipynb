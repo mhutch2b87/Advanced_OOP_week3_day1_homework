{
 "cells": [
  {
   "cell_type": "markdown",
   "metadata": {},
   "source": [
    "# Advanced Object-Oriented-Programming (OOP)"
   ]
  },
  {
   "cell_type": "markdown",
   "metadata": {},
   "source": [
    "## Tasks Today:\n",
    "\n",
    "1) <b>Creating Multiple Instances Through Loops</b> <br>\n",
    " &nbsp;&nbsp;&nbsp;&nbsp; a) Using Loops <br>\n",
    " &nbsp;&nbsp;&nbsp;&nbsp; b) Using Multiple Lists with Loops <br>\n",
    " &nbsp;&nbsp;&nbsp;&nbsp; c) Using List Comprehension with Classes<br>\n",
    " &nbsp;&nbsp;&nbsp;&nbsp; d) In-Class Exercise #1 <br>\n",
    "2) <b>Magic Methods</b> <br>\n",
    " &nbsp;&nbsp;&nbsp;&nbsp; a) \\__str\\__ <br>\n",
    " &nbsp;&nbsp;&nbsp;&nbsp; b) \\__add\\__ <br>\n",
    " &nbsp;&nbsp;&nbsp;&nbsp; c) Overriding Magic Methods <br>\n",
    " &nbsp;&nbsp;&nbsp;&nbsp; d) In-Class Exercise #2 <br>\n",
    "3) <b>Inheritance & Method Overriding (recap)</b> <br>\n",
    " &nbsp;&nbsp;&nbsp;&nbsp; a) Inheriting (recap)  <br>\n",
    " &nbsp;&nbsp;&nbsp;&nbsp; b) Overriding Inherited Magic Methods <br>\n",
    " &nbsp;&nbsp;&nbsp;&nbsp; c) Inheriting Multiple Classes <br>\n",
    " &nbsp;&nbsp;&nbsp;&nbsp; d) In-Class Exercise #3 <br>"
   ]
  },
  {
   "cell_type": "markdown",
   "metadata": {},
   "source": [
    "## Creating Multiple Instances Through Loops <br>\n",
    "<p>We can use loops to create multiple instances of a single object in just a couple of lines, even just one line.</p>"
   ]
  },
  {
   "cell_type": "markdown",
   "metadata": {},
   "source": [
    "#### Using Loops"
   ]
  },
  {
   "cell_type": "code",
   "execution_count": 3,
   "metadata": {},
   "outputs": [
    {
     "name": "stdout",
     "output_type": "stream",
     "text": [
      "Max has 0 legs\n",
      "Max has 1 legs\n",
      "Max has 2 legs\n",
      "Max has 3 legs\n",
      "Max has 4 legs\n"
     ]
    }
   ],
   "source": [
    "class Dog():\n",
    "    def __init__(self, name, legs):\n",
    "        self.name = name\n",
    "        self.legs = legs\n",
    "    def printInfo(self):\n",
    "        print(\"{} has {} legs\".format(self.name,self.legs))\n",
    "        \n",
    "#long form\n",
    "dog1 = Dog(\"Lassie\", 4)\n",
    "dog2 = Dog(\"Max\", 4)\n",
    "\n",
    "#using list to make instances of classes\n",
    "\n",
    "dogs = []\n",
    "\n",
    "for i in range(5):\n",
    "    dogs.append(Dog(\"Max\", i))\n",
    "\n",
    "for i in range(len(dogs)):\n",
    "    dogs[i].printInfo()\n"
   ]
  },
  {
   "cell_type": "markdown",
   "metadata": {},
   "source": [
    "#### Using Multiple Lists with Loops"
   ]
  },
  {
   "cell_type": "code",
   "execution_count": 4,
   "metadata": {},
   "outputs": [
    {
     "name": "stdout",
     "output_type": "stream",
     "text": [
      "Max has 4 legs\n",
      "Sam has 4 legs\n",
      "Clifford has 4 legs\n",
      "Lassie has 4 legs\n",
      "Butch has 4 legs\n"
     ]
    }
   ],
   "source": [
    "names = [\"Max\", \"Sam\", \"Clifford\", \"Lassie\", \"Butch\"]\n",
    "dogs = []\n",
    "\n",
    "for i in range(len(names)):\n",
    "    dogs.append(Dog(names[i], 4))\n",
    "\n",
    "for i in range(len(dogs)):\n",
    "    dogs[i].printInfo()\n"
   ]
  },
  {
   "cell_type": "code",
   "execution_count": 5,
   "metadata": {},
   "outputs": [
    {
     "name": "stdout",
     "output_type": "stream",
     "text": [
      "[<__main__.Dog object at 0x0000019E497E9A88>, <__main__.Dog object at 0x0000019E497E9CC8>, <__main__.Dog object at 0x0000019E497E9C08>, <__main__.Dog object at 0x0000019E497E9C48>, <__main__.Dog object at 0x0000019E497E9B88>]\n"
     ]
    }
   ],
   "source": [
    "print(dogs)\n"
   ]
  },
  {
   "cell_type": "markdown",
   "metadata": {},
   "source": [
    "#### Using List Comprehension with Classes"
   ]
  },
  {
   "cell_type": "code",
   "execution_count": 10,
   "metadata": {},
   "outputs": [
    {
     "name": "stdout",
     "output_type": "stream",
     "text": [
      "max has 4 legs\n",
      "lassy has 4 legs\n",
      "sammi has 4 legs\n"
     ]
    }
   ],
   "source": [
    "dogs= [Dog(names[i], 4) for i in range(len(names))]\n",
    "\n",
    "for Dog in dogs:\n",
    "    Dog.printInfo()\n"
   ]
  },
  {
   "cell_type": "markdown",
   "metadata": {},
   "source": [
    "#### In-Class Exercise #1 - Use List Comprehension to create multiple 'Dog' objects using the lists below... <br>\n",
    "<p>names = ['max', 'lassy', 'sammi']<br>colors=['brown', 'black', 'mix']</p>"
   ]
  },
  {
   "cell_type": "code",
   "execution_count": 27,
   "metadata": {},
   "outputs": [
    {
     "name": "stdout",
     "output_type": "stream",
     "text": [
      "max is black \n",
      "lassy is gray \n",
      "sammi is gray \n"
     ]
    }
   ],
   "source": [
    "import random\n",
    "class Dog():\n",
    "    def __init__(self, name, color):\n",
    "        self.name = name\n",
    "        self.color = color\n",
    "    def printInfo(self):\n",
    "        print(\"{} is {} \".format(self.name,self.color))\n",
    "\n",
    "names = ['max', 'lassy', 'sammi']\n",
    "colors=['brown', 'black', 'mix', 'gray']\n",
    "\n",
    "dogs = [Dog(names[i], random.choice(colors)) for i in range(len(names))]\n",
    "\n",
    "for Dog in dogs:\n",
    "    Dog.printInfo()\n",
    "    "
   ]
  },
  {
   "cell_type": "markdown",
   "metadata": {},
   "source": [
    "## Magic Methods <br>\n",
    "<p>Magic methods are any method that begins and ends with two underscores... You've already seen one of them in __init__(). Magic methods are the general functionality of an object, and you have the ability to overwrite what those methods do, giving you flexibility in your program.</p>"
   ]
  },
  {
   "cell_type": "markdown",
   "metadata": {},
   "source": [
    "#### \\__str\\__ <br>\n",
    "<p>This is the output of an object when you print the object itself.</p>"
   ]
  },
  {
   "cell_type": "code",
   "execution_count": 29,
   "metadata": {},
   "outputs": [
    {
     "name": "stdout",
     "output_type": "stream",
     "text": [
      "Jack is 27 years old and has 10 toes\n"
     ]
    }
   ],
   "source": [
    "class Person():\n",
    "    def __init__(self, name, age, number_of_toes):\n",
    "        self.name = name\n",
    "        self.age = age\n",
    "        self.number_of_toes = number_of_toes\n",
    "    def __str__(self):  # must have a return statement of a string\n",
    "        return \"{} is {} years old and has {} toes\" .format(self.name, self.age, self.number_of_toes)\n",
    "    \n",
    "jack = Person(\"Jack\", 27, 10)\n",
    "print(jack)"
   ]
  },
  {
   "cell_type": "markdown",
   "metadata": {},
   "source": [
    "#### \\__add\\__"
   ]
  },
  {
   "cell_type": "code",
   "execution_count": 31,
   "metadata": {},
   "outputs": [
    {
     "name": "stdout",
     "output_type": "stream",
     "text": [
      "44\n"
     ]
    }
   ],
   "source": [
    "class Dog():\n",
    "    def __init__(self, name, color, legs):\n",
    "        self.name = name\n",
    "        self.color = color\n",
    "        self.legs = legs\n",
    "        \n",
    "    #Override the __add__ magic method\n",
    "    def __add__(self,extra_number_legs):\n",
    "        if type(extra_number_legs) != int:\n",
    "            return self.legs + extra_number_legs.legs\n",
    "        else:\n",
    "            return self.legs + extra_number_legs\n",
    "    #the original __add_ works like this:\n",
    "    # a+b = a.__add__(b)\n",
    "    \n",
    "dog1 = Dog(\"max\", \"Mixed\", \"4\")\n",
    "dog2 = Dog(\"lassy\", \"Black\", \"4\")\n",
    "\n",
    "num_legs = dog2 + dog1\n",
    "print(num_legs)"
   ]
  },
  {
   "cell_type": "markdown",
   "metadata": {},
   "source": [
    "#### Overriding Magic Methods"
   ]
  },
  {
   "cell_type": "code",
   "execution_count": null,
   "metadata": {},
   "outputs": [],
   "source": [
    "class Dog():\n",
    "    def __init__(self, name, color):\n",
    "        self.name= name\n",
    "        self.color= color\n",
    "    def __nonzero__(self, color)\n",
    "        if"
   ]
  },
  {
   "cell_type": "markdown",
   "metadata": {},
   "source": [
    "#### In-Class Exercise #2 - Google another magic method and overwrite it's functionality..."
   ]
  },
  {
   "cell_type": "code",
   "execution_count": null,
   "metadata": {},
   "outputs": [],
   "source": []
  },
  {
   "cell_type": "markdown",
   "metadata": {},
   "source": [
    "## Inheritance & Method Overriding (recap)"
   ]
  },
  {
   "cell_type": "markdown",
   "metadata": {},
   "source": [
    "#### Inheriting (recap)"
   ]
  },
  {
   "cell_type": "code",
   "execution_count": 36,
   "metadata": {},
   "outputs": [
    {
     "name": "stdout",
     "output_type": "stream",
     "text": [
      "this is an Mammal\n",
      "Frank is part of the Mammal species\n"
     ]
    }
   ],
   "source": [
    "class Animal():\n",
    "    def __init__(self, species):\n",
    "        self.species = species\n",
    "    \n",
    "    def __str__(self):\n",
    "        return \"this is an {}\".format(self.species)\n",
    "\n",
    "class Dog(Animal):\n",
    "    def __init__(self, name, species):\n",
    "        self.name = name\n",
    "        Animal.__init__(self,species)\n",
    "        \n",
    "    def __str__(self):\n",
    "        return \"{} is part of the {} species\".format(self.name, self.species)\n",
    "        \n",
    "mammal = Animal (\"Mammal\")\n",
    "dog = Dog(\"Frank\", \"Mammal\")\n",
    "\n",
    "print(mammal)\n",
    "print(dog)"
   ]
  },
  {
   "cell_type": "markdown",
   "metadata": {},
   "source": [
    "#### Overriding Inherited Magic Methods"
   ]
  },
  {
   "cell_type": "code",
   "execution_count": null,
   "metadata": {},
   "outputs": [],
   "source": [
    "# see above"
   ]
  },
  {
   "cell_type": "markdown",
   "metadata": {},
   "source": [
    "#### Inheriting Multiple Classes"
   ]
  },
  {
   "cell_type": "code",
   "execution_count": 39,
   "metadata": {},
   "outputs": [
    {
     "name": "stdout",
     "output_type": "stream",
     "text": [
      "Bobby is apart of the Canine species and runs 30 mph\n"
     ]
    }
   ],
   "source": [
    "class Physics():\n",
    "    def __init__(self, speed):\n",
    "        self.gravity = 9.8\n",
    "        self.speed = speed\n",
    "\n",
    "class Animal():\n",
    "    def __init__(self, species):\n",
    "        self.species = species\n",
    "    \n",
    "    def __str__(self):\n",
    "        return \"this is a {}\".format(self.species)\n",
    "    \n",
    "class Dog(Animal, Physics):\n",
    "    def __init__(self,species,name,speed):\n",
    "        self.name = name\n",
    "        Animal.__init__(self,species)\n",
    "        Physics.__init__(self, speed)\n",
    "        \n",
    "    def __str__(self):\n",
    "        return \"{} is apart of the {} species and runs {} mph\".format(self.name, self.species, self.speed)\n",
    "    \n",
    "dog1 = Dog(\"Canine\", \"Bobby\", 30)\n",
    "\n",
    "print(dog1)"
   ]
  },
  {
   "cell_type": "markdown",
   "metadata": {},
   "source": [
    "#### In-Class Exercise #3 - Create a transportation class, a physics class, and a bus class <br>\n",
    "<p>Create a transportation class, a physics class, and a bus class... Have the Bus class inherit both the transportation class and physics class. The physics class should have an attribute of speed, and print out the speed, plus have an acceleration method. The transportation class should have a 'type_of_transportation' attribute, and print the type(type_of_transportation [i.e road/air]) that is being used. The bus class should have attributes that describe the bus, such as; wheels, color, size, etc. Overwrite the __str__ method so that when you print the object, it prints out the bus information, and the speed.</p>"
   ]
  },
  {
   "cell_type": "code",
   "execution_count": 65,
   "metadata": {},
   "outputs": [
    {
     "name": "stdout",
     "output_type": "stream",
     "text": [
      "The bus is yellow and has 4 wheels. Its a full bus and is basic. This is ground transportation and is going 60 MPH.\n",
      "the Acceleration of the bus is 15.0MPH\n",
      "This is considered ground transportation\n",
      "The speed is 60MPH\n"
     ]
    }
   ],
   "source": [
    "class Physics():\n",
    "    def __init__(self, speed):\n",
    "        self.distance = 60\n",
    "        self.speed = speed\n",
    "    def Find_Acceleration(self):\n",
    "        time= 2\n",
    "        velocity = self.distance/time\n",
    "        print(\"the Acceleration of the bus is\"+ \" \" + str(velocity/time) + \"MPH\")\n",
    "    def print_speed(self):\n",
    "        print(\"The speed is {}MPH\".format(self.speed))\n",
    "        \n",
    "class Transportation():\n",
    "    def __init__(self, type_of_trans):\n",
    "        self.type_of_trans = type_of_trans\n",
    "    def print_transport(self):\n",
    "        print(\"This is considered {} transportation\".format(self.type_of_trans))\n",
    "    \n",
    "class Bus(Physics, Transportation):\n",
    "    def __init__(self, wheels, color, size, luxury, speed, type_of_trans):\n",
    "        self.wheels = wheels\n",
    "        self.color = color\n",
    "        self.size = size\n",
    "        self.luxury = luxury\n",
    "        Physics.__init__(self, speed)\n",
    "        Transportation.__init__(self, type_of_trans)\n",
    "    def __str__(self):\n",
    "        return \"The bus is {} and has {} wheels. Its a {} bus and is {}. This is {} transportation and is going {} MPH.\".format(self.color, self.wheels, self.size, self.luxury, self.type_of_trans, self.speed)\n",
    "    \n",
    "bus1 = Bus(4, \"yellow\", \"full\", \"basic\", 60, \"ground\")\n",
    "print(bus1)\n",
    "bus1.Find_Acceleration()\n",
    "bus1.print_transport()\n",
    "bus1.print_speed()\n"
   ]
  }
 ],
 "metadata": {
  "kernelspec": {
   "display_name": "Python 3",
   "language": "python",
   "name": "python3"
  },
  "language_info": {
   "codemirror_mode": {
    "name": "ipython",
    "version": 3
   },
   "file_extension": ".py",
   "mimetype": "text/x-python",
   "name": "python",
   "nbconvert_exporter": "python",
   "pygments_lexer": "ipython3",
   "version": "3.7.4"
  }
 },
 "nbformat": 4,
 "nbformat_minor": 2
}
